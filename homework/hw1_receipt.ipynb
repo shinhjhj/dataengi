{
 "cells": [
  {
   "cell_type": "code",
   "execution_count": 12,
   "id": "f90b6d6d-0f57-462f-b31d-2cbf78700d41",
   "metadata": {},
   "outputs": [],
   "source": [
    "lovely_loveseat_description=\"Lovely Loveseat. Tufted polyester blend on wood. 32 inches high x 40 inches wide x 30 inches deep. Red or white.\"\n",
    "lovely_loveseat_price=254.00\n",
    "stylish_settee_description=\"Stylish Settee. Faux leather on birch. 29.50 inches high x 54.75 inches wide x 28 inches deep. Black.\"\n",
    "stylish_settee_price=180.50\n",
    "luxurious_lamp_description=\"Luxurious Lamp. Glass and iron. 36 inches tall. Brown with cream shade.\"\n",
    "luxurious_lamp_price=52.15\n",
    "sales_tax=0.088"
   ]
  },
  {
   "cell_type": "code",
   "execution_count": 13,
   "id": "4f3536ee-b297-43dd-97f9-edbf66e1df1d",
   "metadata": {},
   "outputs": [],
   "source": [
    "customer_one_total=lovely_loveseat_price+luxurious_lamp_price\n",
    "customer_one_itemization=lovely_loveseat_description+luxurious_lamp_description\n",
    "customer_one_tax=customer_one_total*sales_tax\n",
    "\n",
    "customer_one_total+=customer_one_tax"
   ]
  },
  {
   "cell_type": "code",
   "execution_count": 14,
   "id": "97ef1a1d-da46-4378-ac21-6c766cf1cf80",
   "metadata": {},
   "outputs": [
    {
     "name": "stdout",
     "output_type": "stream",
     "text": [
      "Customer One Items : \n",
      "Lovely Loveseat. Tufted polyester blend on wood. 32 inches high x 40 inches wide x 30 inches deep. Red or white.Luxurious Lamp. Glass and iron. 36 inches tall. Brown with cream shade.\n",
      "Customer One Total : \n",
      "333.09119999999996\n"
     ]
    }
   ],
   "source": [
    "print(\"Customer One Items : \")\n",
    "print(customer_one_itemization)\n",
    "print(\"Customer One Total : \")\n",
    "print(customer_one_total)\n"
   ]
  },
  {
   "cell_type": "code",
   "execution_count": null,
   "id": "e8c13822-77fe-4b2c-bcb3-e243a395144b",
   "metadata": {},
   "outputs": [],
   "source": []
  }
 ],
 "metadata": {
  "kernelspec": {
   "display_name": "Python 3",
   "language": "python",
   "name": "python3"
  },
  "language_info": {
   "codemirror_mode": {
    "name": "ipython",
    "version": 3
   },
   "file_extension": ".py",
   "mimetype": "text/x-python",
   "name": "python",
   "nbconvert_exporter": "python",
   "pygments_lexer": "ipython3",
   "version": "3.8.8"
  }
 },
 "nbformat": 4,
 "nbformat_minor": 5
}
