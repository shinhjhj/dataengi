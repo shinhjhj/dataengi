{
 "cells": [
  {
   "cell_type": "code",
   "execution_count": 2,
   "id": "0e94d7d6-2380-49df-9b55-b9a76439e143",
   "metadata": {},
   "outputs": [],
   "source": [
    "import numpy as np\n",
    "import pandas as pd\n",
    "from matplotlib import pyplot as plt"
   ]
  },
  {
   "cell_type": "code",
   "execution_count": 3,
   "id": "67ba8a4f-cf94-41ad-a743-e25fecf900ff",
   "metadata": {},
   "outputs": [
    {
     "name": "stdout",
     "output_type": "stream",
     "text": [
      "[1.5]\n"
     ]
    }
   ],
   "source": [
    "# Creating a NumPy Array\n",
    "\n",
    "lst=[1.5]\n",
    "\n",
    "arr=np.array(lst)\n",
    "print(arr)"
   ]
  },
  {
   "cell_type": "code",
   "execution_count": 4,
   "id": "15cde8bf-5aa9-4845-b931-c76160b6befa",
   "metadata": {},
   "outputs": [
    {
     "name": "stdout",
     "output_type": "stream",
     "text": [
      "float64\n"
     ]
    }
   ],
   "source": [
    "# .dtype attribute\n",
    "print(arr.dtype)"
   ]
  },
  {
   "cell_type": "code",
   "execution_count": 5,
   "id": "626c865e-15a1-4987-8be9-6e17ffb899c2",
   "metadata": {},
   "outputs": [
    {
     "name": "stdout",
     "output_type": "stream",
     "text": [
      "96\n",
      "124\n"
     ]
    }
   ],
   "source": [
    "\"\"\"\n",
    "Size Comparison of ndarray and lust objects\n",
    "\"\"\"\n",
    "\n",
    "from sys import getsizeof\n",
    "\n",
    "lst=[1,2,3,4,5]\n",
    "print(getsizeof(lst))\n",
    "\n",
    "arr=np.array(lst)\n",
    "print(getsizeof(arr))"
   ]
  },
  {
   "cell_type": "code",
   "execution_count": 6,
   "id": "96192406-7f96-4071-b90c-7c6d5f762593",
   "metadata": {},
   "outputs": [
    {
     "name": "stdout",
     "output_type": "stream",
     "text": [
      "[25, 20, 35, 15, 15, 30, 45, 30]\n",
      "[25 20 35 15 15 30 45 30]\n"
     ]
    }
   ],
   "source": [
    "\"\"\"\n",
    "Operations with Numpy Arrays\n",
    "\"\"\"\n",
    "\n",
    "prices=[30,25,40,20,20,35,50,35]\n",
    "\n",
    "# With a list\n",
    "new_prices=[price-5 for price in prices]\n",
    "print(new_prices)\n",
    "\n",
    "# With a ndarray\n",
    "prices_arr=np.array(prices)\n",
    "prices_arr=prices_arr - 5\n",
    "print(prices_arr)\n",
    "\n",
    "# ** operation and np.sqrt\n",
    "\n"
   ]
  },
  {
   "cell_type": "code",
   "execution_count": 7,
   "id": "01fb994a-a302-4eed-b63c-ff27676b33af",
   "metadata": {},
   "outputs": [
    {
     "name": "stdout",
     "output_type": "stream",
     "text": [
      "[89 87 74 92 94]\n",
      "[258 279 246 274 270]\n",
      "[86.         93.         82.         91.33333333 90.        ]\n",
      "93\n",
      "[94 88]\n",
      "[[ 92  94  88  91  87]\n",
      " [ 79 100  86  93  91]\n",
      " [ 87  85  72  90  92]]\n",
      "87\n",
      "[87 91 92]\n"
     ]
    }
   ],
   "source": [
    "\"\"\"\n",
    "Exercise: Test Scores\n",
    "\"\"\"\n",
    "\n",
    "test_1=np.array([92,94,88,91,87])\n",
    "test_2=np.array([79,100,86,93,91])\n",
    "test_3=np.array([87,85,72,90,92])\n",
    "\n",
    "test_3_fixed=test_3+2\n",
    "print(test_3_fixed)\n",
    "\n",
    "total_grade=test_1+test_2+test_3\n",
    "print(total_grade)\n",
    "\n",
    "final_grade=total_grade/3\n",
    "print(final_grade)\n",
    "\n",
    "jeremy_test_2=test_2[3]\n",
    "print(jeremy_test_2)\n",
    "\n",
    "manual_adwoa_test_1=np.array([test_1[1],test_1[2]])\n",
    "print(manual_adwoa_test_1)\n",
    "\n",
    "student_scores=np.array([test_1,test_2,test_3])\n",
    "print(student_scores)\n",
    "\n",
    "print(student_scores[2,0])\n",
    "\n",
    "print(student_scores[:,-1])"
   ]
  },
  {
   "cell_type": "code",
   "execution_count": 8,
   "id": "be5acbc5-8ce2-4505-8649-8be317c2149a",
   "metadata": {},
   "outputs": [
    {
     "name": "stdout",
     "output_type": "stream",
     "text": [
      "[ True False False False False False  True  True  True  True]\n",
      "[10  2  2  3  9  8  9  7]\n",
      "[5 7]\n"
     ]
    }
   ],
   "source": [
    "\"\"\"\n",
    "Logical Operations with Arrays\n",
    "\"\"\"\n",
    "\n",
    "# masking\n",
    "\n",
    "a=np.array([10,2,2,4,5,3,9,8,9,7])\n",
    "mask=a>5\n",
    "print(mask)\n",
    "\n",
    "# select using Logical operations\n",
    "\n",
    "selected=a[(a>6)|(a<4)]\n",
    "print(selected)\n",
    "\n",
    "# combined Logical oprations | &\n",
    "\n",
    "selected=a[(a>4)&(a<8)]\n",
    "print(selected)"
   ]
  },
  {
   "cell_type": "code",
   "execution_count": 9,
   "id": "44106ea8-641b-40e0-a9ce-668213c2395b",
   "metadata": {},
   "outputs": [
    {
     "name": "stdout",
     "output_type": "stream",
     "text": [
      "[[ 92  94  88  91  87]\n",
      " [ 79 100  86  93  91]\n",
      " [ 87  85  72  90  92]]\n",
      "87\n",
      "[87 91 92]\n"
     ]
    }
   ],
   "source": [
    "students_scores=np.array([test_1,test_2,test_3])\n",
    "\n",
    "print(students_scores)\n",
    "\n",
    "print(students_scores[2,0])\n",
    "\n",
    "print(students_scores[:,-1])"
   ]
  },
  {
   "cell_type": "code",
   "execution_count": 10,
   "id": "c30b3459-2583-452a-aa5e-19d9354697f3",
   "metadata": {},
   "outputs": [
    {
     "name": "stdout",
     "output_type": "stream",
     "text": [
      "[ True False False False False False  True  True  True  True]\n",
      "[10  9  8  9  7]\n",
      "[10  2  2  3  9  8  9  7]\n",
      "[5 7]\n"
     ]
    }
   ],
   "source": [
    "\"\"\"\n",
    "Logical Operations with Arrays\n",
    "\"\"\"\n",
    "\n",
    "#masking\n",
    "a=np.array([10,2,2,4,5,3,9,8,9,7])\n",
    "\n",
    "mask=a>5\n",
    "print(mask)\n",
    "\n",
    "#select using logical operations\n",
    "selected=a[a>5]\n",
    "print(selected)\n",
    "\n",
    "#combined Logical operations/&\n",
    "selected=a[(a>6)|(a<4)]\n",
    "print(selected)\n",
    "\n",
    "selected=a[(a>4)&(a<8)]\n",
    "print(selected)"
   ]
  },
  {
   "cell_type": "code",
   "execution_count": 17,
   "id": "5ee9135a-1525-42d1-a9e3-34b351a7941b",
   "metadata": {},
   "outputs": [
    {
     "name": "stdout",
     "output_type": "stream",
     "text": [
      "[50 56 51]\n",
      "[50 56 51]\n",
      "[79 65 63 79]\n"
     ]
    }
   ],
   "source": [
    "porridge=np.array([79,65,50,63,56,90,85,98,79,51])\n",
    "\n",
    "cold=porridge[porridge<60]\n",
    "print(cold)\n",
    "\n",
    "hot=porridge[porridge<60]\n",
    "print(hot)\n",
    "\n",
    "just_right=porridge[(porridge<80)&(porridge>60)]\n",
    "print(just_right)"
   ]
  },
  {
   "cell_type": "code",
   "execution_count": null,
   "id": "12176fc9-0990-4f9a-b048-3721b9b9b74b",
   "metadata": {},
   "outputs": [],
   "source": []
  }
 ],
 "metadata": {
  "kernelspec": {
   "display_name": "Python 3",
   "language": "python",
   "name": "python3"
  },
  "language_info": {
   "codemirror_mode": {
    "name": "ipython",
    "version": 3
   },
   "file_extension": ".py",
   "mimetype": "text/x-python",
   "name": "python",
   "nbconvert_exporter": "python",
   "pygments_lexer": "ipython3",
   "version": "3.8.8"
  }
 },
 "nbformat": 4,
 "nbformat_minor": 5
}
