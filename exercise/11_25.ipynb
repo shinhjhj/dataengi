{
 "cells": [
  {
   "cell_type": "code",
   "execution_count": null,
   "id": "39c2ea87-7ec9-442c-8078-563b28846edc",
   "metadata": {},
   "outputs": [],
   "source": [
    "import pandas as pd\n",
    "import numpy as np\n",
    "from pandas import datetime\n",
    "from matplotlib import pyplot as plt\n",
    "\n",
    "\"\"\"\n",
    "Load AirQualityUCI Data\n",
    "\"\"\"\n",
    "\n",
    "def parser(x):\n",
    "    return datetime.strptime(x, '%Y-%m-%d %H:%M:%S')\n",
    "\n",
    "input_file = './data/AirQualityUCI_refined.csv'\n",
    "\n",
    "df = pd.read_csv(input_file,\n",
    "                 index_col=[0],\n",
    "                 parse_dates=[0],\n",
    "                 date_parser=parser)\n",
    "\n",
    "df"
   ]
  },
  {
   "cell_type": "code",
   "execution_count": null,
   "id": "8aa682aa-3131-4e13-b18e-4d95396b54d2",
   "metadata": {},
   "outputs": [],
   "source": [
    "# Visualization setup\n",
    "%matplotlib\n",
    "%config InlineBackend.figure_format = 'svg'\n",
    "\n",
    "from matplotlib import pyplot as plt\n",
    "plt.rcParams['figure.figsize'] = [10, 5]\n",
    "plt.ion() # enable the interactive mode\n",
    "\n",
    "import seaborn as sns\n",
    "sns.set()  # set plot styles"
   ]
  },
  {
   "cell_type": "code",
   "execution_count": null,
   "id": "a7a31662-7e25-4372-b147-ec601748afd9",
   "metadata": {},
   "outputs": [],
   "source": [
    "# Interpolate for entire data\n",
    "df.interpolate(inplace=True)\n",
    "df.info()"
   ]
  },
  {
   "cell_type": "code",
   "execution_count": null,
   "id": "10ecfe9f-45bb-427e-a511-897f5ea333cf",
   "metadata": {},
   "outputs": [],
   "source": [
    "\"\"\"\n",
    "Correlation Matrix\n",
    "\"\"\"\n",
    "sns.pairplot(df, kind='reg', diag_kind='kde',\n",
    "             plot_kws={'scatter_kws': {'alpha': 0.1}})"
   ]
  },
  {
   "cell_type": "code",
   "execution_count": null,
   "id": "5c145f0f-1437-4db5-83b3-3ade177ff42f",
   "metadata": {},
   "outputs": [],
   "source": [
    "# Prepare a feature set\n",
    "X = df.iloc[:, 1:]    # input features\n",
    "X\n",
    "\n",
    "y = df.iloc[:, 0]    # target variable\n",
    "y"
   ]
  },
  {
   "cell_type": "code",
   "execution_count": null,
   "id": "9cbac10e-fc8f-4173-bf9d-8d3544d760ea",
   "metadata": {},
   "outputs": [],
   "source": [
    "# prepare a feature set\n",
    "# input features\n",
    "df.iloc[:,1:]"
   ]
  },
  {
   "cell_type": "code",
   "execution_count": null,
   "id": "f94ee26a-2b97-4e45-b4dd-951c893b3812",
   "metadata": {},
   "outputs": [],
   "source": [
    "# target vaiable\n",
    "y=df.iloc[:,0]\n",
    "y"
   ]
  },
  {
   "cell_type": "code",
   "execution_count": 1,
   "id": "44869294-f377-4451-bcd8-a9a42f96b5c9",
   "metadata": {},
   "outputs": [
    {
     "ename": "NameError",
     "evalue": "name 'X' is not defined",
     "output_type": "error",
     "traceback": [
      "\u001b[1;31m---------------------------------------------------------------------------\u001b[0m",
      "\u001b[1;31mNameError\u001b[0m                                 Traceback (most recent call last)",
      "\u001b[1;32m<ipython-input-1-e3f6c7c500b1>\u001b[0m in \u001b[0;36m<module>\u001b[1;34m\u001b[0m\n\u001b[0;32m      8\u001b[0m \u001b[1;33m\u001b[0m\u001b[0m\n\u001b[0;32m      9\u001b[0m \u001b[0mmodel\u001b[0m \u001b[1;33m=\u001b[0m \u001b[0mRandomForestRegressor\u001b[0m\u001b[1;33m(\u001b[0m\u001b[1;33m)\u001b[0m\u001b[1;33m\u001b[0m\u001b[1;33m\u001b[0m\u001b[0m\n\u001b[1;32m---> 10\u001b[1;33m \u001b[0mmodel\u001b[0m\u001b[1;33m.\u001b[0m\u001b[0mfit\u001b[0m\u001b[1;33m(\u001b[0m\u001b[0mX\u001b[0m\u001b[1;33m,\u001b[0m \u001b[0my\u001b[0m\u001b[1;33m)\u001b[0m\u001b[1;33m\u001b[0m\u001b[1;33m\u001b[0m\u001b[0m\n\u001b[0m",
      "\u001b[1;31mNameError\u001b[0m: name 'X' is not defined"
     ]
    }
   ],
   "source": [
    "\"\"\"\n",
    "Feature Importance\n",
    "\"\"\"\n",
    "\n",
    "# Create and train model for regression\n",
    "\n",
    "from sklearn.ensemble import RandomForestRegressor\n",
    "\n",
    "model = RandomForestRegressor()\n",
    "model.fit(X, y)"
   ]
  },
  {
   "cell_type": "code",
   "execution_count": null,
   "id": "68d0b19b-45dd-403d-ba14-681e443d72a7",
   "metadata": {},
   "outputs": [],
   "source": [
    "# Print feature importances\n",
    "print(model.feature_importances_)"
   ]
  },
  {
   "cell_type": "code",
   "execution_count": null,
   "id": "1655df2e-5816-48f7-88af-5ecc0d9b848b",
   "metadata": {},
   "outputs": [],
   "source": [
    "# Plot the feature importances\n",
    "feat_importances = pd.Series(model.feature_importances_, index=X.columns)\n",
    "feat_importances.nlargest(10).plot(kind='barh')\n",
    "plt.show()"
   ]
  },
  {
   "cell_type": "code",
   "execution_count": null,
   "id": "9701f744-59a0-4079-b621-c213337edbe1",
   "metadata": {},
   "outputs": [],
   "source": []
  }
 ],
 "metadata": {
  "kernelspec": {
   "display_name": "Python 3",
   "language": "python",
   "name": "python3"
  },
  "language_info": {
   "codemirror_mode": {
    "name": "ipython",
    "version": 3
   },
   "file_extension": ".py",
   "mimetype": "text/x-python",
   "name": "python",
   "nbconvert_exporter": "python",
   "pygments_lexer": "ipython3",
   "version": "3.8.8"
  }
 },
 "nbformat": 4,
 "nbformat_minor": 5
}
