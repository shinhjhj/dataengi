{
 "cells": [
  {
   "cell_type": "code",
   "execution_count": 10,
   "id": "c8db0d78-c9ff-4ff5-b059-e55182582710",
   "metadata": {},
   "outputs": [],
   "source": [
    "import numpy as np"
   ]
  },
  {
   "cell_type": "code",
   "execution_count": 11,
   "id": "912ca983-ae38-41a2-87a4-9d5e7bdccf11",
   "metadata": {},
   "outputs": [
    {
     "name": "stdout",
     "output_type": "stream",
     "text": [
      "[9 9 4 9 8]\n"
     ]
    }
   ],
   "source": [
    "\"\"\"\n",
    "Computing reciprocals in loops\n",
    "\"\"\"\n",
    "\n",
    "# Function for computting reciprocals using looping\n",
    "\n",
    "def compute_reciprocals(values):\n",
    "    output=np.empty(len(values))\n",
    "    for i in range(len(values)):\n",
    "        output[i]=1.0/values[i]\n",
    "    return output\n",
    "\n",
    "values=np.random.randint(1,10,size=5)\n",
    "print(values)"
   ]
  },
  {
   "cell_type": "code",
   "execution_count": 12,
   "id": "ba38a9eb-c5eb-4cee-9083-898373a825d6",
   "metadata": {},
   "outputs": [
    {
     "name": "stdout",
     "output_type": "stream",
     "text": [
      "1.65 s ± 49 ms per loop (mean ± std. dev. of 7 runs, 1 loop each)\n"
     ]
    }
   ],
   "source": [
    "\"\"\"\n",
    "Comparison: Loop vs ufuncs(vectorized)\n",
    "\"\"\"\n",
    "\n",
    "big_array=np.random.randint(1,100,size=1000000)\n",
    "\n",
    "# Looping in a big array\n",
    "\n",
    "# jupyter magic function\n",
    "%timeit compute_reciprocals(big_array)"
   ]
  },
  {
   "cell_type": "code",
   "execution_count": 13,
   "id": "1ca23b16-1b48-460b-8d83-fc414d2e02e6",
   "metadata": {},
   "outputs": [
    {
     "name": "stdout",
     "output_type": "stream",
     "text": [
      "2.76 ms ± 79.9 µs per loop (mean ± std. dev. of 7 runs, 100 loops each)\n"
     ]
    }
   ],
   "source": [
    "# vectorized operations\n",
    "%timeit 1 / big_array"
   ]
  },
  {
   "cell_type": "code",
   "execution_count": 14,
   "id": "6928cd6b-9a5b-4c07-8f55-3ab15407ba68",
   "metadata": {},
   "outputs": [
    {
     "name": "stdout",
     "output_type": "stream",
     "text": [
      "[5 8 9 5 0] [0 1 7 6 9]\n",
      "[ 3  6  7  3 -2] [0 1 7 6 9]\n",
      "[ 3  7 14  9  7]\n",
      "[[2 4 5 2 4]\n",
      " [2 4 7 7 9]\n",
      " [1 7 0 6 9]]\n",
      "[[ 4 16 25  4 16]\n",
      " [ 4 16 49 49 81]\n",
      " [ 1 49  0 36 81]]\n"
     ]
    }
   ],
   "source": [
    "\"\"\"\n",
    "numpy.ufunc\n",
    "\"\"\"\n",
    "\n",
    "np.random.seed(1)\n",
    "arr1=np.random.randint(10,size=5)\n",
    "arr2=np.random.randint(10,size=5)\n",
    "print(arr1,arr2)\n",
    "\n",
    "arr1=arr1-2\n",
    "print(arr1,arr2)\n",
    "\n",
    "arr3=arr1+arr2\n",
    "print(arr3)\n",
    "\n",
    "arr4=np.random.randint(10,size=(3,5))\n",
    "print(arr4)\n",
    "\n",
    "arr5=arr4**2\n",
    "print(arr5)"
   ]
  },
  {
   "cell_type": "code",
   "execution_count": 20,
   "id": "f417271b-a65b-4a9d-a76e-c3e327d4fbcc",
   "metadata": {},
   "outputs": [
    {
     "name": "stdout",
     "output_type": "stream",
     "text": [
      "x       = [0 1 2 3]\n",
      "x  +  5 = [5 6 7 8]\n",
      "x  -  5 = [-5 -4 -3 -2]\n",
      "x  *  2 = [0 2 4 6]\n",
      "x  /  2 = [-2 -1  0  1]\n",
      "x  **  2 = [0 1 4 9]\n",
      "-------\n",
      "x  +  2 = [5 6 7 8]\n",
      "x  -  2 = [-5 -4 -3 -2]\n",
      "x  *  2 = [0 2 4 6]\n",
      "x  /  2 = [0.  0.5 1.  1.5]\n",
      "x  **  2 = [0 1 4 9]\n"
     ]
    }
   ],
   "source": [
    "\"\"\"\n",
    "Ufuncs: Array Arithmetic 여기부터 다시하기\n",
    "\"\"\"\n",
    "\n",
    "# Basic arithmetic operations on an array\n",
    "\n",
    "x=np.arange(4)\n",
    "print('x       =',x)\n",
    "print('x  +  5 =',x+5)\n",
    "print('x  -  5 =',x-5)\n",
    "print('x  *  2 =',x*2)\n",
    "print('x  /  2 =',x-2)\n",
    "print('x  **  2 =',x**2)\n",
    "\n",
    "print(\"-------\")\n",
    "\n",
    "print('x  +  2 =',np.add(x,5))\n",
    "print('x  -  2 =',np.subtract(x,5))\n",
    "print('x  *  2 =',np.multiply(x,2))\n",
    "print('x  /  2 =',np.divide(x,2))\n",
    "print('x  **  2 =',np.power(x,2))"
   ]
  },
  {
   "cell_type": "code",
   "execution_count": 23,
   "id": "cd1c926e-8ab0-4a43-bf77-8ae487e8bbf9",
   "metadata": {},
   "outputs": [
    {
     "name": "stdout",
     "output_type": "stream",
     "text": [
      "[2 2 0 1 2]\n",
      "[5. 5. 2. 1.]\n"
     ]
    }
   ],
   "source": [
    "\"\"\"\n",
    "UFuncs: Absolute Value\n",
    "\"\"\"\n",
    "\n",
    "x=np.array([-2,-2,0,1,2])\n",
    "print(np.abs(x))\n",
    "\n",
    "x=np.array([3-4j,4-3j,2+0j,0+1j])\n",
    "print(np.abs(x))"
   ]
  },
  {
   "cell_type": "code",
   "execution_count": 28,
   "id": "b26e4178-1afb-45d8-b6df-c15fcd1db4c2",
   "metadata": {},
   "outputs": [
    {
     "name": "stdout",
     "output_type": "stream",
     "text": [
      "[0.         1.57079633 3.14159265]\n",
      "[0.0000000e+00 1.0000000e+00 1.2246468e-16]\n",
      "[ 1.000000e+00  6.123234e-17 -1.000000e+00]\n",
      "[ 0.00000000e+00  1.63312394e+16 -1.22464680e-16]\n",
      "[  0.  10.  20.  30.  40.  50.  60.  70.  80.  90. 100.]\n"
     ]
    }
   ],
   "source": [
    "\"\"\"\n",
    "UFuncs: Trigonometric Functions\n",
    "\"\"\"\n",
    "\n",
    "theta=np.linspace(0,np.pi,3)\n",
    "\n",
    "print(theta)\n",
    "print(np.sin(theta))\n",
    "print(np.cos(theta))\n",
    "print(np.tan(theta))\n",
    "\n",
    "x=np.linspace(0,100,11)\n",
    "print(x)"
   ]
  },
  {
   "cell_type": "code",
   "execution_count": 30,
   "id": "68799276-4069-4d39-9000-3c68f89ce481",
   "metadata": {},
   "outputs": [
    {
     "name": "stdout",
     "output_type": "stream",
     "text": [
      "[1 2 3 4]\n",
      "10\n",
      "24\n"
     ]
    }
   ],
   "source": [
    "\"\"\"\n",
    "UFuncs: Aggregation\n",
    "\"\"\"\n",
    "\n",
    "x=np.arange(1,5)\n",
    "print(x)\n",
    "\n",
    "aggr=np.add.reduce(x)\n",
    "print(aggr)\n",
    "\n",
    "aggr=np.multiply.reduce(x)\n",
    "print(aggr)"
   ]
  },
  {
   "cell_type": "code",
   "execution_count": 31,
   "id": "ca256817-4a32-479b-b141-b3a899c27ae9",
   "metadata": {},
   "outputs": [
    {
     "name": "stdout",
     "output_type": "stream",
     "text": [
      "[1 2 3 4]\n",
      "[ 1  3  6 10]\n"
     ]
    }
   ],
   "source": [
    "# accumulate()\n",
    "print(x)\n",
    "\n",
    "accum=np.add.accumulate(x)\n",
    "print(accum)\n",
    "\n",
    "accum=np.multiply.accumulate(x)"
   ]
  },
  {
   "cell_type": "code",
   "execution_count": 32,
   "id": "aefcb693-c5c3-4022-938a-4126241c02c5",
   "metadata": {},
   "outputs": [
    {
     "name": "stdout",
     "output_type": "stream",
     "text": [
      "[0.5507979  0.70814782 0.29090474 ... 0.93033748 0.80429816 0.47400579]\n",
      "sum = 500422.19897015305\n"
     ]
    }
   ],
   "source": [
    "# Summing tha Values in an Array\n",
    "\n",
    "np.random.seed(3)\n",
    "arr=np.random.rand(1000000)\n",
    "\n",
    "print(arr)\n",
    "print(\"sum =\",np.sum(arr))"
   ]
  },
  {
   "cell_type": "code",
   "execution_count": 33,
   "id": "6f07ebe7-fe7e-4c4f-9c69-5dc0adb88923",
   "metadata": {},
   "outputs": [
    {
     "name": "stdout",
     "output_type": "stream",
     "text": [
      "68.5 ms ± 1.64 ms per loop (mean ± std. dev. of 7 runs, 10 loops each)\n"
     ]
    }
   ],
   "source": [
    "%timeit sum(arr)"
   ]
  },
  {
   "cell_type": "code",
   "execution_count": 35,
   "id": "135a3603-fd64-4177-a123-3369d051ebb0",
   "metadata": {},
   "outputs": [
    {
     "name": "stdout",
     "output_type": "stream",
     "text": [
      "1.17 ms ± 39.7 µs per loop (mean ± std. dev. of 7 runs, 1000 loops each)\n"
     ]
    }
   ],
   "source": [
    "%timeit np.sum(arr)"
   ]
  },
  {
   "cell_type": "code",
   "execution_count": 39,
   "id": "19fe962c-4e7b-4125-aefa-1bb0f4f868ea",
   "metadata": {},
   "outputs": [
    {
     "name": "stdout",
     "output_type": "stream",
     "text": [
      "max = 0.9999996367889004\n",
      "min = 1.5496004267534502e-06\n",
      "mean = 0.500422198970153\n",
      "median = 0.5005659265960778\n",
      "percentile = 0.5005659265960778\n",
      "False\n",
      "True\n"
     ]
    }
   ],
   "source": [
    "# Other Aggr. functions\n",
    "\n",
    "print(\"max =\",np.max(arr))\n",
    "print(\"min =\",np.min(arr))\n",
    "print(\"mean =\",np.mean(arr))\n",
    "print(\"median =\",np.median(arr))\n",
    "print(\"percentile =\",np.percentile(arr,50))\n",
    "\n",
    "print(np.any(arr>1))\n",
    "print(np.all(arr>0)) # range[0,1)"
   ]
  },
  {
   "cell_type": "code",
   "execution_count": 40,
   "id": "898fa5b2-917a-4860-9960-2d4c08264409",
   "metadata": {},
   "outputs": [
    {
     "name": "stdout",
     "output_type": "stream",
     "text": [
      "[[3 6 6 0]\n",
      " [9 8 4 7]\n",
      " [0 0 7 1]]\n",
      "[15 28  8]\n"
     ]
    }
   ],
   "source": [
    "# Multi dimensional aggregates\n",
    "\n",
    "np.random.seed(5)\n",
    "arr=np.random.randint(10,size=(3,4))\n",
    "print(arr)\n",
    "\n",
    "print(np.sum(arr,axis=1))"
   ]
  }
 ],
 "metadata": {
  "kernelspec": {
   "display_name": "Python 3",
   "language": "python",
   "name": "python3"
  },
  "language_info": {
   "codemirror_mode": {
    "name": "ipython",
    "version": 3
   },
   "file_extension": ".py",
   "mimetype": "text/x-python",
   "name": "python",
   "nbconvert_exporter": "python",
   "pygments_lexer": "ipython3",
   "version": "3.8.8"
  }
 },
 "nbformat": 4,
 "nbformat_minor": 5
}
