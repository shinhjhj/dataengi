{
 "cells": [
  {
   "cell_type": "code",
   "execution_count": 12,
   "id": "cb88a9fd-23a2-48b8-9893-5f8b25cf4dfc",
   "metadata": {},
   "outputs": [],
   "source": [
    "i=['쌍', '쇠', '복', '돌', '팽', '육', '쌍', '개', '칠', '갑', '삼', '방']\n",
    "\n",
    "j=['봉', '구', '욕', '포', '똥', '삼', '식', '석', '놈', '님', '년', '돌', '단', '득', '방', '질', '장', '걸', '래', '룡', '동', '순', '자', '박', '창', '언', '것', '포', '만', '단', '국']\n",
    "\n",
    "\n",
    "def get_my_chosun_name(family_name, month, day):\n",
    "    name=family_name+i[month-1]+j[day-1]\n",
    "    return print(\"당신의 조선시대 이름은 \"+name+\"입니다.\")"
   ]
  },
  {
   "cell_type": "code",
   "execution_count": 13,
   "id": "626036ac-2d11-49aa-a0bf-f5ad854549bc",
   "metadata": {},
   "outputs": [
    {
     "name": "stdout",
     "output_type": "stream",
     "text": [
      "당신의 조선시대 이름은 신쌍방입니다.\n"
     ]
    }
   ],
   "source": [
    "get_my_chosun_name('신',1,15)"
   ]
  },
  {
   "cell_type": "code",
   "execution_count": null,
   "id": "6d8391ad-b768-4778-bcb8-797a7326ed85",
   "metadata": {},
   "outputs": [],
   "source": []
  }
 ],
 "metadata": {
  "kernelspec": {
   "display_name": "Python 3",
   "language": "python",
   "name": "python3"
  },
  "language_info": {
   "codemirror_mode": {
    "name": "ipython",
    "version": 3
   },
   "file_extension": ".py",
   "mimetype": "text/x-python",
   "name": "python",
   "nbconvert_exporter": "python",
   "pygments_lexer": "ipython3",
   "version": "3.8.8"
  }
 },
 "nbformat": 4,
 "nbformat_minor": 5
}
