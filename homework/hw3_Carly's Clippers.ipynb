{
 "cells": [
  {
   "cell_type": "code",
   "execution_count": 12,
   "id": "f6ebfe8c-9623-4931-8c03-d7745dea7270",
   "metadata": {},
   "outputs": [],
   "source": [
    "hairstyles = [\"bouffant\", \"pixie\", \"dreadlocks\", \"crew\", \"bowl\", \"bob\", \"mohawk\", \"flattop\"]\n",
    "\n",
    "prices = [30, 25, 40, 20, 20, 35, 50, 35]\n",
    "\n",
    "last_week = [2, 3, 5, 8, 4, 4, 6, 2]"
   ]
  },
  {
   "cell_type": "code",
   "execution_count": 13,
   "id": "dee535bc-968e-4d06-9a1a-c189799f2f47",
   "metadata": {},
   "outputs": [
    {
     "name": "stdout",
     "output_type": "stream",
     "text": [
      "Average price is 31.875\n"
     ]
    }
   ],
   "source": [
    "total_price=0\n",
    "\n",
    "for i in range(len(prices)):\n",
    "    total_price+=prices[i]\n",
    "\n",
    "average_price=total_price/len(prices)\n",
    "\n",
    "print(\"Average price is \",end='')\n",
    "print(average_price)"
   ]
  },
  {
   "cell_type": "code",
   "execution_count": 14,
   "id": "3b592572-ce5f-4959-9d3a-e282502ec9e8",
   "metadata": {},
   "outputs": [
    {
     "name": "stdout",
     "output_type": "stream",
     "text": [
      "[25, 20, 35, 15, 15, 30, 45, 30]\n"
     ]
    }
   ],
   "source": [
    "new_prices=[i-5 for i in prices]\n",
    "\n",
    "print(new_prices)"
   ]
  },
  {
   "cell_type": "code",
   "execution_count": 15,
   "id": "8ae43d6c-6340-4732-97a7-56949acff8a0",
   "metadata": {},
   "outputs": [
    {
     "name": "stdout",
     "output_type": "stream",
     "text": [
      "Average daily revenue is 155.0\n"
     ]
    }
   ],
   "source": [
    "total_revenue=0\n",
    "\n",
    "for i in range(0, len(hairstyles)):\n",
    "    total_revenue+=prices[i]*last_week[i]\n",
    "\n",
    "average_daily_revenue=total_revenue/7\n",
    "\n",
    "print(\"Average daily revenue is \",end='')\n",
    "print(average_daily_revenue)"
   ]
  },
  {
   "cell_type": "code",
   "execution_count": 7,
   "id": "98774bf0-3cc1-4a14-a006-5a7afc6d53a2",
   "metadata": {},
   "outputs": [
    {
     "name": "stdout",
     "output_type": "stream",
     "text": [
      "['bouffant', 'pixie', 'crew', 'bowl']\n"
     ]
    }
   ],
   "source": [
    "# 리스트 컴프리헨션으로 바꿔야 함\n",
    "# 0부터 뉴프라이스-1의 크기 i 만큼 뉴프라이스[i]이 30보다 작으면 컷츠언더써티에 헤어스타일스[i]추가\n",
    "\n",
    "cuts_under_30=[hairstyles[i] for i in range(0,len(new_prices)-1) if new_prices[i]<30]\n",
    "\n",
    "# for i in range(0,len(new_prices)-1):\n",
    "#     if new_prices[i]<30:\n",
    "#         cuts_under_30.append(hairstyles[i])\n",
    "\n",
    "print(cuts_under_30)"
   ]
  },
  {
   "cell_type": "code",
   "execution_count": null,
   "id": "02552c0f-ff2a-4eb5-9d8f-8e7f988fbf88",
   "metadata": {},
   "outputs": [],
   "source": []
  }
 ],
 "metadata": {
  "kernelspec": {
   "display_name": "Python 3",
   "language": "python",
   "name": "python3"
  },
  "language_info": {
   "codemirror_mode": {
    "name": "ipython",
    "version": 3
   },
   "file_extension": ".py",
   "mimetype": "text/x-python",
   "name": "python",
   "nbconvert_exporter": "python",
   "pygments_lexer": "ipython3",
   "version": "3.8.8"
  }
 },
 "nbformat": 4,
 "nbformat_minor": 5
}
