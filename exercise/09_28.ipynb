{
 "cells": [
  {
   "cell_type": "code",
   "execution_count": 5,
   "id": "b3574367-75ca-43cc-b257-ca3ade027c35",
   "metadata": {},
   "outputs": [
    {
     "name": "stdout",
     "output_type": "stream",
     "text": [
      "4\n"
     ]
    }
   ],
   "source": [
    "\"\"\"\n",
    "Functions vs Method\n",
    "\"\"\"\n",
    "\n",
    "def my_function(x):\n",
    "    return x+1\n",
    "\n",
    "y=3\n",
    "my_function(y)\n",
    "\n",
    "# method : 클래스 내에 정의된 함수\n",
    "\n",
    "x=1\n",
    "\n",
    "class my_class:\n",
    "    @staticmethod\n",
    "    def my_method(x):\n",
    "        return x + 1\n",
    "    \n",
    "cls=my_class()\n",
    "print(cls.my_method(3))"
   ]
  },
  {
   "cell_type": "code",
   "execution_count": 8,
   "id": "35e51b24-f4ac-4006-8990-d40ea37ae0a0",
   "metadata": {},
   "outputs": [
    {
     "name": "stdout",
     "output_type": "stream",
     "text": [
      "2020 is a leap year.\n"
     ]
    }
   ],
   "source": [
    "\"\"\"\n",
    "Return Keyword\n",
    "\"\"\"\n",
    "\n",
    "# Leap Year : 윤년(2월 29일까지)\n",
    "\n",
    "def check_leap_year(year):\n",
    "    if year % 4 == 0:\n",
    "        return str(year) + \" is a leap year.\"\n",
    "    else:\n",
    "        return str(year) + \" is not a leap year.\"\n",
    "    \n",
    "result=check_leap_year(2020)\n",
    "print(result)"
   ]
  },
  {
   "cell_type": "code",
   "execution_count": 11,
   "id": "7c3daa9b-bfa4-45c1-b285-4414d107ffd5",
   "metadata": {},
   "outputs": [
    {
     "name": "stdout",
     "output_type": "stream",
     "text": [
      "9 16 25\n"
     ]
    }
   ],
   "source": [
    "\"\"\"\n",
    "Returning Multiple Values\n",
    "\"\"\"\n",
    "\n",
    "def square_point(x,y,z):\n",
    "    x_squared=x**2\n",
    "    y_squared=y**2\n",
    "    z_squared=z**2\n",
    "    return x_squared, y_squared, z_squared\n",
    "\n",
    "three_squared, four_squared, five_squared=square_point(3,4,5)\n",
    "\n",
    "print(three_squared,four_squared,five_squared)"
   ]
  },
  {
   "cell_type": "code",
   "execution_count": 13,
   "id": "abbacdd2-e080-4917-b82b-71123bebfedf",
   "metadata": {},
   "outputs": [
    {
     "name": "stdout",
     "output_type": "stream",
     "text": [
      "Hello\n"
     ]
    }
   ],
   "source": [
    "\"\"\"\n",
    "Global Variables\n",
    "\"\"\"\n",
    "\n",
    "a='Hello'\n",
    "\n",
    "def prints_a():\n",
    "    print(a)\n",
    "    \n",
    "prints_a()"
   ]
  },
  {
   "cell_type": "code",
   "execution_count": 16,
   "id": "87946511-795d-432f-a36e-6cf248e9a347",
   "metadata": {},
   "outputs": [
    {
     "name": "stdout",
     "output_type": "stream",
     "text": [
      "2\n"
     ]
    }
   ],
   "source": [
    "\"\"\"\n",
    "Local Variables\n",
    "\"\"\"\n",
    "\n",
    "a=5\n",
    "\n",
    "def f1():\n",
    "    a=2\n",
    "    print(a)\n",
    "    \n",
    "f1()"
   ]
  },
  {
   "cell_type": "code",
   "execution_count": 19,
   "id": "740dc1e2-1746-4135-b9d2-a36cc34fd570",
   "metadata": {},
   "outputs": [
    {
     "name": "stdout",
     "output_type": "stream",
     "text": [
      "height = 1\n",
      "width = 2\n",
      "depth = 3\n",
      "6\n",
      "height = 2\n",
      "width = 1\n",
      "depth = 3\n",
      "6\n",
      "height = 1\n",
      "width = 2\n",
      "depth = 4\n",
      "8\n"
     ]
    }
   ],
   "source": [
    "\"\"\"\n",
    "Keyword Arguments and Default Values\n",
    "\"\"\"\n",
    "\n",
    "def findvolume(height,width,depth):\n",
    "    print(\"height = \"+str(height))\n",
    "    print(\"width = \"+str(width))\n",
    "    print(\"depth = \"+str(depth))\n",
    "    return height*width*depth\n",
    "\n",
    "#예제: 높이:1, 넓이:2, 깊이:3\n",
    "print(findvolume(1,2,3))\n",
    "print(findvolume(2,1,3))\n",
    "print(findvolume(width=2,height=1,depth=4))\n"
   ]
  },
  {
   "cell_type": "code",
   "execution_count": null,
   "id": "ef277072-864b-48ca-9731-767d3a3d8f80",
   "metadata": {},
   "outputs": [],
   "source": [
    "\n"
   ]
  }
 ],
 "metadata": {
  "kernelspec": {
   "display_name": "Python 3",
   "language": "python",
   "name": "python3"
  },
  "language_info": {
   "codemirror_mode": {
    "name": "ipython",
    "version": 3
   },
   "file_extension": ".py",
   "mimetype": "text/x-python",
   "name": "python",
   "nbconvert_exporter": "python",
   "pygments_lexer": "ipython3",
   "version": "3.8.8"
  }
 },
 "nbformat": 4,
 "nbformat_minor": 5
}
