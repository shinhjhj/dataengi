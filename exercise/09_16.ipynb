{
 "cells": [
  {
   "cell_type": "code",
   "execution_count": 2,
   "id": "8b85f20e-b241-472e-82f1-d285c3bec352",
   "metadata": {},
   "outputs": [
    {
     "name": "stdout",
     "output_type": "stream",
     "text": [
      "<class 'bool'>\n",
      "<class 'float'>\n"
     ]
    }
   ],
   "source": [
    "\"\"\"\n",
    "boolean variables\n",
    "\"\"\"\n",
    "\n",
    "is_tested=False\n",
    "print(type(is_tested))\n",
    "\n",
    "a=3.14\n",
    "print(type(a))"
   ]
  },
  {
   "cell_type": "code",
   "execution_count": 10,
   "id": "f9dde82f-f800-42db-8600-94303260eac7",
   "metadata": {},
   "outputs": [
    {
     "name": "stdout",
     "output_type": "stream",
     "text": [
      "말티푸.\n",
      "True\n"
     ]
    }
   ],
   "source": [
    "\"\"\"\n",
    "Conditional Statements (if / elif / else)\n",
    "\"\"\"\n",
    "\n",
    "puppy= \"maltepoo\"\n",
    "age=1\n",
    "is_yes=False\n",
    "\n",
    "if puppy==\"maltese\":\n",
    "    print(\"말티즈.\")\n",
    "    is_yes=True\n",
    "    \n",
    "    if age<3:\n",
    "        print(\"말티즈 새끼.\")\n",
    "        \n",
    "elif puppy==\"poodle\":\n",
    "    print(\"푸들.\")\n",
    "    is_yes=True \n",
    "    \n",
    "elif puppy==\"shitzu\":\n",
    "    print(\"시츄.\")\n",
    "    is_yes=True\n",
    "\n",
    "else:\n",
    "    print(\"말티푸.\")\n",
    "    is_yes=True\n",
    "    \n",
    "print(is_yes)"
   ]
  },
  {
   "cell_type": "code",
   "execution_count": 11,
   "id": "aaab5fd9-01ea-4f48-8e57-15c4d7ab0200",
   "metadata": {},
   "outputs": [
    {
     "name": "stdout",
     "output_type": "stream",
     "text": [
      "[Error]\n",
      "continue\n"
     ]
    }
   ],
   "source": [
    "\"\"\"\n",
    "Exception Handling\n",
    "\"\"\"\n",
    "\n",
    "x=1\n",
    "\n",
    "try:\n",
    "    print(y)\n",
    "    print(x)\n",
    "    \n",
    "except:\n",
    "    print('[Error]')\n",
    "    \n",
    "print('continue')"
   ]
  }
 ],
 "metadata": {
  "kernelspec": {
   "display_name": "Python 3",
   "language": "python",
   "name": "python3"
  },
  "language_info": {
   "codemirror_mode": {
    "name": "ipython",
    "version": 3
   },
   "file_extension": ".py",
   "mimetype": "text/x-python",
   "name": "python",
   "nbconvert_exporter": "python",
   "pygments_lexer": "ipython3",
   "version": "3.8.8"
  }
 },
 "nbformat": 4,
 "nbformat_minor": 5
}
