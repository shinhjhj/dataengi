{
 "cells": [
  {
   "cell_type": "code",
   "execution_count": 5,
   "id": "d30907e0-8df5-41c2-aa94-d98251c1a045",
   "metadata": {},
   "outputs": [],
   "source": [
    "import numpy as np"
   ]
  },
  {
   "cell_type": "code",
   "execution_count": 8,
   "id": "00cc5b28-dfe6-4ac1-b9d2-4f45ede87d38",
   "metadata": {},
   "outputs": [
    {
     "name": "stdout",
     "output_type": "stream",
     "text": [
      "[0 1 2]\n",
      "[3 4 5 6 7 8]\n",
      "[3 5 7]\n"
     ]
    }
   ],
   "source": [
    "\"\"\"\n",
    "Numpy Array Attributes\n",
    "\"\"\"\n",
    "\n",
    "# Creating an array\n",
    "\n",
    "print(np.arange(3))\n",
    "print(np.arange(3,9))\n",
    "print(np.arange(3,9,2))"
   ]
  },
  {
   "cell_type": "code",
   "execution_count": 10,
   "id": "e724d890-6c94-4cdf-aaa8-57f2c0e5ac52",
   "metadata": {},
   "outputs": [
    {
     "name": "stdout",
     "output_type": "stream",
     "text": [
      "[5 0 3 3 7 9]\n",
      "[[3 5 2 4]\n",
      " [7 6 8 8]\n",
      " [1 6 7 7]]\n",
      "[[[8 1 5 9 8]\n",
      "  [9 4 3 0 3]\n",
      "  [5 0 2 3 8]\n",
      "  [1 3 3 3 7]]\n",
      "\n",
      " [[0 1 9 9 0]\n",
      "  [4 7 3 2 7]\n",
      "  [2 0 0 4 5]\n",
      "  [5 6 8 4 1]]\n",
      "\n",
      " [[4 9 8 1 1]\n",
      "  [7 9 9 3 6]\n",
      "  [7 2 0 3 5]\n",
      "  [9 4 4 6 4]]]\n"
     ]
    }
   ],
   "source": [
    "# Random Number generator\n",
    "\n",
    "np.random.seed(0)\n",
    "arr1=np.random.randint(10,size=6)\n",
    "print(arr1)\n",
    "arr2=np.random.randint(10,size=(3,4))\n",
    "print(arr2)\n",
    "arr3=np.random.randint(10,size=(3,4,5))\n",
    "print(arr3)"
   ]
  },
  {
   "cell_type": "code",
   "execution_count": 13,
   "id": "9a10a023-92e2-425f-bdc1-5636aa0c21a9",
   "metadata": {},
   "outputs": [
    {
     "name": "stdout",
     "output_type": "stream",
     "text": [
      "[[3 5 2 4]\n",
      " [7 6 8 8]\n",
      " [1 6 7 7]]\n",
      "arr2.ndim = 2\n",
      "arr2.shape = (3, 4)\n",
      "arr2.size = 12\n",
      "arr2.dtype = int32\n",
      "arr2.itemsize = 4\n",
      "arr2.nbytes = 48\n"
     ]
    }
   ],
   "source": [
    "# Attributes\n",
    "\n",
    "print(arr2)\n",
    "\n",
    "print('arr2.ndim =', arr2.ndim)\n",
    "print('arr2.shape =', arr2.shape)\n",
    "print('arr2.size =', arr2.size)\n",
    "print('arr2.dtype =', arr2.dtype)\n",
    "print('arr2.itemsize =', arr2.itemsize)\n",
    "print('arr2.nbytes =', arr2.nbytes)"
   ]
  },
  {
   "cell_type": "code",
   "execution_count": 15,
   "id": "f985b38a-0f19-43fa-9065-9ff952fbf79f",
   "metadata": {},
   "outputs": [
    {
     "name": "stdout",
     "output_type": "stream",
     "text": [
      "[0 1 2 3 4 5 6 7 8 9]\n",
      "[3 4 5 6]\n",
      "[0 1 2 3 4]\n",
      "[5 6 7 8 9]\n",
      "[0 3 6 9]\n",
      "[2 4 6]\n"
     ]
    }
   ],
   "source": [
    "\"\"\"\n",
    "Slicing\n",
    "\"\"\"\n",
    "\n",
    "arr=np.arange(10)\n",
    "print(arr)\n",
    "\n",
    "print(arr[3:7])\n",
    "print(arr[:5])\n",
    "print(arr[5:])\n",
    "print(arr[::3])\n",
    "print(arr[2:8:2])"
   ]
  },
  {
   "cell_type": "code",
   "execution_count": 18,
   "id": "5e24b7ea-d909-44e5-a88e-b4e09413f6fe",
   "metadata": {},
   "outputs": [
    {
     "name": "stdout",
     "output_type": "stream",
     "text": [
      "[[5 0 3 3 7 9 3 5]\n",
      " [2 4 7 6 8 8 1 6]\n",
      " [7 7 8 1 5 9 8 9]\n",
      " [4 3 0 3 5 0 2 3]\n",
      " [8 1 3 3 3 7 0 1]\n",
      " [9 9 0 4 7 3 2 7]]\n",
      "[[5 0 2]\n",
      " [3 7 0]]\n"
     ]
    }
   ],
   "source": [
    "# Multi-dimensional Subarrays\n",
    "\n",
    "np.random.seed(0)\n",
    "arr=np.random.randint(10,size=(6,8))\n",
    "print(arr)\n",
    "\n",
    "arr_sub=arr[3:5, 4:7]\n",
    "print(arr_sub)"
   ]
  },
  {
   "cell_type": "code",
   "execution_count": 23,
   "id": "fd0196e5-44c7-4156-90d2-8a19f5b9df72",
   "metadata": {},
   "outputs": [
    {
     "name": "stdout",
     "output_type": "stream",
     "text": [
      "[[5 8 9 5]\n",
      " [0 0 1 7]\n",
      " [6 9 2 4]] \n",
      "\n",
      "[[5 8]\n",
      " [0 0]] \n",
      "\n",
      "[[99  8  9  5]\n",
      " [ 0  0  1  7]\n",
      " [ 6  9  2  4]]\n"
     ]
    }
   ],
   "source": [
    "\"\"\"\n",
    "Subarrays as no-copy views\n",
    "\"\"\"\n",
    "\n",
    "np.random.seed(1)\n",
    "arr=np.random.randint(10,size=(3,4))\n",
    "print(arr,'\\n')\n",
    "\n",
    "arr_sub=arr[:2,:2]\n",
    "print(arr_sub,'\\n')\n",
    "\n",
    "arr_sub[0,0]=99\n",
    "print(arr)"
   ]
  },
  {
   "cell_type": "code",
   "execution_count": 26,
   "id": "5a9085a2-f926-44c0-86f8-6a3f640e51f1",
   "metadata": {},
   "outputs": [
    {
     "name": "stdout",
     "output_type": "stream",
     "text": [
      "[[12  5  2  4]\n",
      " [ 7  6  8  8]\n",
      " [ 1  6  7  7]]\n",
      "[[12  5]\n",
      " [ 7  6]] \n",
      "\n",
      "[[99  5]\n",
      " [ 7  6]]\n"
     ]
    }
   ],
   "source": [
    "# .copy()\n",
    "\n",
    "arr=np.array([[12,5,2,4],[7,6,8,8],[1,6,7,7]])\n",
    "print(arr)\n",
    "\n",
    "arr_sub=arr[:2,:2].copy()\n",
    "print(arr_sub,'\\n')\n",
    "\n",
    "arr_sub[0,0]=99\n",
    "print(arr_sub)"
   ]
  },
  {
   "cell_type": "code",
   "execution_count": 28,
   "id": "acab5deb-ded4-4136-99b1-176ab0447835",
   "metadata": {},
   "outputs": [
    {
     "name": "stdout",
     "output_type": "stream",
     "text": [
      "[1 2 3 4 5 6 7 8 9] \n",
      "\n",
      "[[1 2 3]\n",
      " [4 5 6]\n",
      " [7 8 9]] \n",
      "\n"
     ]
    }
   ],
   "source": [
    "\"\"\"\n",
    "Reshaping of Arrays\n",
    "\"\"\"\n",
    "\n",
    "arr=np.arange(1,10)\n",
    "print(arr,'\\n')\n",
    "\n",
    "# reshape()\n",
    "grid=arr.reshape(3,3)\n",
    "print(grid,'\\n')\n"
   ]
  },
  {
   "cell_type": "code",
   "execution_count": 31,
   "id": "1ae09ba3-4419-4d93-ad8c-7e71474b80ed",
   "metadata": {},
   "outputs": [
    {
     "name": "stdout",
     "output_type": "stream",
     "text": [
      "[1 2 3]\n",
      "arr.ndim = 1\n",
      "arr.shape = (3,)\n",
      "[[1]\n",
      " [2]\n",
      " [3]]\n",
      "arr_new.ndim = 2\n",
      "arr_new.shape = (3, 1)\n"
     ]
    }
   ],
   "source": [
    "# np.newaxis\n",
    "\n",
    "arr=np.array([1,2,3])\n",
    "print(arr)\n",
    "print('arr.ndim =', arr.ndim)\n",
    "print('arr.shape =', arr.shape)\n",
    "\n",
    "arr_new=arr[:,np.newaxis]\n",
    "print(arr_new)\n",
    "print('arr_new.ndim =', arr_new.ndim)\n",
    "print('arr_new.shape =', arr_new.shape)"
   ]
  },
  {
   "cell_type": "code",
   "execution_count": 36,
   "id": "adabe773-b64d-4392-b887-5e630bc85032",
   "metadata": {},
   "outputs": [
    {
     "name": "stdout",
     "output_type": "stream",
     "text": [
      "[[1 2 3 4 5 6 7 8 9]\n",
      " [1 2 3 4 5 6 7 8 9]] \n",
      "\n",
      "[[1 2 3]\n",
      " [1 2 3]\n",
      " [4 5 6]\n",
      " [4 5 6]\n",
      " [7 8 9]\n",
      " [7 8 9]] \n",
      "\n",
      "[[1 2 3 4 5 6 7 8 9]\n",
      " [1 2 3 4 5 6 7 8 9]] \n",
      "\n"
     ]
    }
   ],
   "source": [
    "\"\"\"\n",
    "Array Concatenation\n",
    "\"\"\"\n",
    "\n",
    "# np.concatenate(), np.vstack(), np.hstack()\n",
    "\n",
    "arr_1=np.array([[1,2,3],[1,2,3]])\n",
    "arr_2=np.array([[4,5,6],[4,5,6]])\n",
    "arr_3=np.array([[7,8,9],[7,8,9]])\n",
    "\n",
    "arr_total=np.concatenate([arr_1,arr_2,arr_3], axis=1)\n",
    "print(arr_total,'\\n')\n",
    "\n",
    "arr_total=np.vstack([arr_1,arr_2,arr_3])\n",
    "print(arr_total,'\\n')\n",
    "\n",
    "arr_total=np.hstack([arr_1,arr_2,arr_3])\n",
    "print(arr_total,'\\n')"
   ]
  },
  {
   "cell_type": "code",
   "execution_count": 38,
   "id": "7774d62e-48a5-44d2-ba48-897ebdb3be8b",
   "metadata": {},
   "outputs": [
    {
     "name": "stdout",
     "output_type": "stream",
     "text": [
      "[1, 2, 3, 99, 99, 3, 2, 1] \n",
      "\n",
      "[1 2 3] [99 99] [3 2 1]\n"
     ]
    }
   ],
   "source": [
    "\"\"\"\n",
    "Array Splitting\n",
    "\"\"\"\n",
    "\n",
    "arr=[1,2,3,99,99,3,2,1]\n",
    "print(arr,'\\n')\n",
    "\n",
    "arr_1, arr_2, arr_3=np.split(arr,[3,5])\n",
    "print(arr_1,arr_2,arr_3)"
   ]
  }
 ],
 "metadata": {
  "kernelspec": {
   "display_name": "Python 3",
   "language": "python",
   "name": "python3"
  },
  "language_info": {
   "codemirror_mode": {
    "name": "ipython",
    "version": 3
   },
   "file_extension": ".py",
   "mimetype": "text/x-python",
   "name": "python",
   "nbconvert_exporter": "python",
   "pygments_lexer": "ipython3",
   "version": "3.8.8"
  }
 },
 "nbformat": 4,
 "nbformat_minor": 5
}
