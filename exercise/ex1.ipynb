{
 "cells": [
  {
   "cell_type": "code",
   "execution_count": 2,
   "id": "632acba9-98ce-4db0-b9e0-8f9ca2ab2817",
   "metadata": {},
   "outputs": [
    {
     "name": "stdout",
     "output_type": "stream",
     "text": [
      "Hello World!\n",
      "100\n",
      "3.14\n",
      "My name is Hyun Jong Shin!\n"
     ]
    }
   ],
   "source": [
    "\"\"\"\n",
    "print() function\n",
    "\"\"\"\n",
    "\n",
    "print(\"Hello World!\")\n",
    "print(100)\n",
    "pi=3.14\n",
    "print(pi)\n",
    "\n",
    "intro=\"My name is \"\n",
    "name=\"Hyun Jong Shin\"\n",
    "print(intro + name + \"!\")\n"
   ]
  },
  {
   "cell_type": "code",
   "execution_count": 15,
   "id": "8b352d9a-f3dc-47f3-808f-45b8943d89a6",
   "metadata": {},
   "outputs": [],
   "source": [
    "\"\"\"\n",
    "Variables\n",
    "\"\"\"\n",
    "\n",
    "#나를 표현할 수 있는 정보 세 가지 이상을 변수로 선언\n",
    "\n",
    "user_name=\"Hyun Jong Shin\"\n",
    "user_id=202055040\n",
    "user_email=\"shinhjhj7044@hs.ac.kr\"\n",
    "is_student=True"
   ]
  },
  {
   "cell_type": "code",
   "execution_count": 17,
   "id": "75e7e2eb-7b0e-4ba6-8ab6-c53cd7eb7990",
   "metadata": {},
   "outputs": [],
   "source": [
    "\"\"\"\n",
    "Data Types: Integers\n",
    "\"\"\"\n",
    "\n",
    "#집에 있는 세 가지 이상의 사물의 갯수를 정수 변수로 표현하시오.\n",
    "\n",
    "desk=2\n",
    "monitors=4\n",
    "labtop=2"
   ]
  },
  {
   "cell_type": "code",
   "execution_count": 20,
   "id": "8711ee3d-05d0-4098-8296-a9da141e8c7e",
   "metadata": {},
   "outputs": [],
   "source": [
    "\"\"\"\n",
    "Data Types: Real Numbers\n",
    "\"\"\"\n",
    "\n",
    "#본인이 알고 있는 세 개의 실수를 변수로 정의\n",
    "\n",
    "pi=3.14\n",
    "root_two=1.4\n",
    "kospi_index=3125.76"
   ]
  },
  {
   "cell_type": "code",
   "execution_count": 24,
   "id": "f4d151ca-c6f3-4281-bceb-8fd39c861fde",
   "metadata": {},
   "outputs": [
    {
     "name": "stdout",
     "output_type": "stream",
     "text": [
      "Change favors the prepared mind.\n",
      "Metal Gear Solid V\n",
      "Sonny\n",
      "Change favors the prepared mind.Metal Gear Solid VSonny\n"
     ]
    }
   ],
   "source": [
    "\"\"\"\n",
    "Data Types: Strings\n",
    "\"\"\"\n",
    "\n",
    "favor_motto=\"Change favors the prepared mind.\"\n",
    "favor_game=\"Metal Gear Solid V\"\n",
    "favor_athlete=\"Sonny\"\n",
    "\n",
    "print(favor_motto)\n",
    "print(favor_game)\n",
    "print(favor_athlete)\n",
    "\n",
    "favors=favor_motto + favor_game + favor_athlete\n",
    "\n",
    "print(favors)"
   ]
  }
 ],
 "metadata": {
  "kernelspec": {
   "display_name": "Python 3",
   "language": "python",
   "name": "python3"
  },
  "language_info": {
   "codemirror_mode": {
    "name": "ipython",
    "version": 3
   },
   "file_extension": ".py",
   "mimetype": "text/x-python",
   "name": "python",
   "nbconvert_exporter": "python",
   "pygments_lexer": "ipython3",
   "version": "3.8.8"
  }
 },
 "nbformat": 4,
 "nbformat_minor": 5
}
